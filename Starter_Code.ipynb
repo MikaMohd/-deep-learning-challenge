{
 "cells": [
  {
   "attachments": {},
   "cell_type": "markdown",
   "metadata": {},
   "source": [
    "## Preprocessing"
   ]
  },
  {
   "cell_type": "code",
   "execution_count": 2,
   "metadata": {},
   "outputs": [
    {
     "data": {
      "text/html": [
       "<div>\n",
       "<style scoped>\n",
       "    .dataframe tbody tr th:only-of-type {\n",
       "        vertical-align: middle;\n",
       "    }\n",
       "\n",
       "    .dataframe tbody tr th {\n",
       "        vertical-align: top;\n",
       "    }\n",
       "\n",
       "    .dataframe thead th {\n",
       "        text-align: right;\n",
       "    }\n",
       "</style>\n",
       "<table border=\"1\" class=\"dataframe\">\n",
       "  <thead>\n",
       "    <tr style=\"text-align: right;\">\n",
       "      <th></th>\n",
       "      <th>EIN</th>\n",
       "      <th>NAME</th>\n",
       "      <th>APPLICATION_TYPE</th>\n",
       "      <th>AFFILIATION</th>\n",
       "      <th>CLASSIFICATION</th>\n",
       "      <th>USE_CASE</th>\n",
       "      <th>ORGANIZATION</th>\n",
       "      <th>STATUS</th>\n",
       "      <th>INCOME_AMT</th>\n",
       "      <th>SPECIAL_CONSIDERATIONS</th>\n",
       "      <th>ASK_AMT</th>\n",
       "      <th>IS_SUCCESSFUL</th>\n",
       "    </tr>\n",
       "  </thead>\n",
       "  <tbody>\n",
       "    <tr>\n",
       "      <th>0</th>\n",
       "      <td>10520599</td>\n",
       "      <td>BLUE KNIGHTS MOTORCYCLE CLUB</td>\n",
       "      <td>T10</td>\n",
       "      <td>Independent</td>\n",
       "      <td>C1000</td>\n",
       "      <td>ProductDev</td>\n",
       "      <td>Association</td>\n",
       "      <td>1</td>\n",
       "      <td>0</td>\n",
       "      <td>N</td>\n",
       "      <td>5000</td>\n",
       "      <td>1</td>\n",
       "    </tr>\n",
       "    <tr>\n",
       "      <th>1</th>\n",
       "      <td>10531628</td>\n",
       "      <td>AMERICAN CHESAPEAKE CLUB CHARITABLE TR</td>\n",
       "      <td>T3</td>\n",
       "      <td>Independent</td>\n",
       "      <td>C2000</td>\n",
       "      <td>Preservation</td>\n",
       "      <td>Co-operative</td>\n",
       "      <td>1</td>\n",
       "      <td>1-9999</td>\n",
       "      <td>N</td>\n",
       "      <td>108590</td>\n",
       "      <td>1</td>\n",
       "    </tr>\n",
       "    <tr>\n",
       "      <th>2</th>\n",
       "      <td>10547893</td>\n",
       "      <td>ST CLOUD PROFESSIONAL FIREFIGHTERS</td>\n",
       "      <td>T5</td>\n",
       "      <td>CompanySponsored</td>\n",
       "      <td>C3000</td>\n",
       "      <td>ProductDev</td>\n",
       "      <td>Association</td>\n",
       "      <td>1</td>\n",
       "      <td>0</td>\n",
       "      <td>N</td>\n",
       "      <td>5000</td>\n",
       "      <td>0</td>\n",
       "    </tr>\n",
       "    <tr>\n",
       "      <th>3</th>\n",
       "      <td>10553066</td>\n",
       "      <td>SOUTHSIDE ATHLETIC ASSOCIATION</td>\n",
       "      <td>T3</td>\n",
       "      <td>CompanySponsored</td>\n",
       "      <td>C2000</td>\n",
       "      <td>Preservation</td>\n",
       "      <td>Trust</td>\n",
       "      <td>1</td>\n",
       "      <td>10000-24999</td>\n",
       "      <td>N</td>\n",
       "      <td>6692</td>\n",
       "      <td>1</td>\n",
       "    </tr>\n",
       "    <tr>\n",
       "      <th>4</th>\n",
       "      <td>10556103</td>\n",
       "      <td>GENETIC RESEARCH INSTITUTE OF THE DESERT</td>\n",
       "      <td>T3</td>\n",
       "      <td>Independent</td>\n",
       "      <td>C1000</td>\n",
       "      <td>Heathcare</td>\n",
       "      <td>Trust</td>\n",
       "      <td>1</td>\n",
       "      <td>100000-499999</td>\n",
       "      <td>N</td>\n",
       "      <td>142590</td>\n",
       "      <td>1</td>\n",
       "    </tr>\n",
       "  </tbody>\n",
       "</table>\n",
       "</div>"
      ],
      "text/plain": [
       "        EIN                                      NAME APPLICATION_TYPE  \\\n",
       "0  10520599              BLUE KNIGHTS MOTORCYCLE CLUB              T10   \n",
       "1  10531628    AMERICAN CHESAPEAKE CLUB CHARITABLE TR               T3   \n",
       "2  10547893        ST CLOUD PROFESSIONAL FIREFIGHTERS               T5   \n",
       "3  10553066            SOUTHSIDE ATHLETIC ASSOCIATION               T3   \n",
       "4  10556103  GENETIC RESEARCH INSTITUTE OF THE DESERT               T3   \n",
       "\n",
       "        AFFILIATION CLASSIFICATION      USE_CASE  ORGANIZATION  STATUS  \\\n",
       "0       Independent          C1000    ProductDev   Association       1   \n",
       "1       Independent          C2000  Preservation  Co-operative       1   \n",
       "2  CompanySponsored          C3000    ProductDev   Association       1   \n",
       "3  CompanySponsored          C2000  Preservation         Trust       1   \n",
       "4       Independent          C1000     Heathcare         Trust       1   \n",
       "\n",
       "      INCOME_AMT SPECIAL_CONSIDERATIONS  ASK_AMT  IS_SUCCESSFUL  \n",
       "0              0                      N     5000              1  \n",
       "1         1-9999                      N   108590              1  \n",
       "2              0                      N     5000              0  \n",
       "3    10000-24999                      N     6692              1  \n",
       "4  100000-499999                      N   142590              1  "
      ]
     },
     "execution_count": 2,
     "metadata": {},
     "output_type": "execute_result"
    }
   ],
   "source": [
    "# Import our dependencies\n",
    "from sklearn.model_selection import train_test_split\n",
    "from sklearn.preprocessing import StandardScaler\n",
    "import pandas as pd\n",
    "import tensorflow as tf\n",
    "\n",
    "#  Import and read the charity_data.csv.\n",
    "import pandas as pd \n",
    "application_df = pd.read_csv(\"./Resources/charity_data.csv\")\n",
    "application_df.head()"
   ]
  },
  {
   "cell_type": "code",
   "execution_count": 3,
   "metadata": {},
   "outputs": [],
   "source": [
    "# Drop the non-beneficial ID columns, 'EIN' and 'NAME'.\n",
    "application_df = application_df.drop(columns=['EIN', 'NAME'])"
   ]
  },
  {
   "cell_type": "code",
   "execution_count": 4,
   "metadata": {},
   "outputs": [
    {
     "data": {
      "text/plain": [
       "APPLICATION_TYPE            17\n",
       "AFFILIATION                  6\n",
       "CLASSIFICATION              71\n",
       "USE_CASE                     5\n",
       "ORGANIZATION                 4\n",
       "STATUS                       2\n",
       "INCOME_AMT                   9\n",
       "SPECIAL_CONSIDERATIONS       2\n",
       "ASK_AMT                   8747\n",
       "IS_SUCCESSFUL                2\n",
       "dtype: int64"
      ]
     },
     "execution_count": 4,
     "metadata": {},
     "output_type": "execute_result"
    }
   ],
   "source": [
    "# Determine the number of unique values in each column.\n",
    "application_df.nunique()"
   ]
  },
  {
   "cell_type": "code",
   "execution_count": 5,
   "metadata": {},
   "outputs": [],
   "source": [
    "# Look at APPLICATION_TYPE value counts for binning\n",
    "application_type_counts = application_df['APPLICATION_TYPE'].value_counts()"
   ]
  },
  {
   "cell_type": "code",
   "execution_count": 6,
   "metadata": {},
   "outputs": [
    {
     "data": {
      "text/plain": [
       "T3       27037\n",
       "T4        1542\n",
       "T6        1216\n",
       "T5        1173\n",
       "T19       1065\n",
       "T8         737\n",
       "T7         725\n",
       "T10        528\n",
       "Other      276\n",
       "Name: APPLICATION_TYPE, dtype: int64"
      ]
     },
     "execution_count": 6,
     "metadata": {},
     "output_type": "execute_result"
    }
   ],
   "source": [
    "# Choose a cutoff value and create a list of application types to be replaced\n",
    "# use the variable name `application_types_to_replace`\n",
    "cutoff_value = 500\n",
    "application_types_to_replace = application_type_counts[application_type_counts < cutoff_value].index.tolist()\n",
    "\n",
    "# Replace in dataframe\n",
    "for app in application_types_to_replace:\n",
    "    application_df['APPLICATION_TYPE'] = application_df['APPLICATION_TYPE'].replace(app,\"Other\")\n",
    "\n",
    "# Check to make sure binning was successful\n",
    "application_df['APPLICATION_TYPE'].value_counts()"
   ]
  },
  {
   "cell_type": "code",
   "execution_count": 7,
   "metadata": {},
   "outputs": [],
   "source": [
    "# Look at CLASSIFICATION value counts for binning\n",
    "classification_counts = application_df['CLASSIFICATION'].value_counts()"
   ]
  },
  {
   "cell_type": "code",
   "execution_count": 8,
   "metadata": {},
   "outputs": [],
   "source": [
    "# You may find it helpful to look at CLASSIFICATION value counts >1\n",
    "classification_counts_gt1 = classification_counts[classification_counts > 1]"
   ]
  },
  {
   "cell_type": "code",
   "execution_count": 9,
   "metadata": {},
   "outputs": [
    {
     "data": {
      "text/plain": [
       "C1000    17326\n",
       "C2000     6074\n",
       "C1200     4837\n",
       "Other     2261\n",
       "C3000     1918\n",
       "C2100     1883\n",
       "Name: CLASSIFICATION, dtype: int64"
      ]
     },
     "execution_count": 9,
     "metadata": {},
     "output_type": "execute_result"
    }
   ],
   "source": [
    "# Choose a cutoff value and create a list of classifications to be replaced\n",
    "# use the variable name `classifications_to_replace`\n",
    "cutoff = 1500\n",
    "classifications_to_replace = list(classification_counts[classification_counts < cutoff].index)\n",
    "\n",
    "# Replace in dataframe\n",
    "for cls in classifications_to_replace:\n",
    "    application_df['CLASSIFICATION'] = application_df['CLASSIFICATION'].replace(cls,\"Other\")\n",
    "    \n",
    "# Check to make sure binning was successful\n",
    "application_df['CLASSIFICATION'].value_counts()"
   ]
  },
  {
   "cell_type": "code",
   "execution_count": 10,
   "metadata": {},
   "outputs": [],
   "source": [
    "# Convert categorical data to numeric with `pd.get_dummies`\n",
    "application_df = pd.get_dummies(application_df)"
   ]
  },
  {
   "cell_type": "code",
   "execution_count": 11,
   "metadata": {},
   "outputs": [],
   "source": [
    "# Split our preprocessed data into our features and target arrays\n",
    "X = application_df.drop('IS_SUCCESSFUL', axis=1).values\n",
    "y = application_df['IS_SUCCESSFUL'].values\n",
    "\n",
    "# Split the preprocessed data into a training and testing dataset\n",
    "X_train, X_test, y_train, y_test = train_test_split(X, y, random_state=42, stratify=y)"
   ]
  },
  {
   "cell_type": "code",
   "execution_count": 12,
   "metadata": {},
   "outputs": [],
   "source": [
    "# Create a StandardScaler instances\n",
    "scaler = StandardScaler()\n",
    "\n",
    "# Fit the StandardScaler\n",
    "X_scaler = scaler.fit(X_train)\n",
    "\n",
    "# Scale the data\n",
    "X_train_scaled = X_scaler.transform(X_train)\n",
    "X_test_scaled = X_scaler.transform(X_test)"
   ]
  },
  {
   "attachments": {},
   "cell_type": "markdown",
   "metadata": {},
   "source": [
    "## Compile, Train and Evaluate the Model"
   ]
  },
  {
   "cell_type": "code",
   "execution_count": 13,
   "metadata": {},
   "outputs": [
    {
     "name": "stdout",
     "output_type": "stream",
     "text": [
      "Model: \"sequential\"\n",
      "_________________________________________________________________\n",
      " Layer (type)                Output Shape              Param #   \n",
      "=================================================================\n",
      " dense (Dense)               (None, 150)               6600      \n",
      "                                                                 \n",
      " dropout (Dropout)           (None, 150)               0         \n",
      "                                                                 \n",
      " dense_1 (Dense)             (None, 100)               15100     \n",
      "                                                                 \n",
      " dropout_1 (Dropout)         (None, 100)               0         \n",
      "                                                                 \n",
      " dense_2 (Dense)             (None, 75)                7575      \n",
      "                                                                 \n",
      " dropout_2 (Dropout)         (None, 75)                0         \n",
      "                                                                 \n",
      " dense_3 (Dense)             (None, 1)                 76        \n",
      "                                                                 \n",
      "=================================================================\n",
      "Total params: 29,351\n",
      "Trainable params: 29,351\n",
      "Non-trainable params: 0\n",
      "_________________________________________________________________\n"
     ]
    }
   ],
   "source": [
    "# Define the model - deep neural net, i.e., the number of input features and hidden nodes for each layer.\n",
    "number_input_features = len(X_train[0])\n",
    "hidden_nodes_layer1 = 150\n",
    "hidden_nodes_layer2 = 100\n",
    "hidden_nodes_layer3 = 75\n",
    "\n",
    "nn = tf.keras.models.Sequential()\n",
    "\n",
    "# First hidden layer with 'tanh' activation\n",
    "nn.add(tf.keras.layers.Dense(units=hidden_nodes_layer1, input_dim=number_input_features, activation='tanh'))\n",
    "nn.add(tf.keras.layers.Dropout(0.2))\n",
    "\n",
    "# Second hidden layer with 'elu' activation\n",
    "nn.add(tf.keras.layers.Dense(units=hidden_nodes_layer2, activation='elu'))\n",
    "nn.add(tf.keras.layers.Dropout(0.2))\n",
    "\n",
    "# Third hidden layer with 'relu' activation\n",
    "nn.add(tf.keras.layers.Dense(units=hidden_nodes_layer3, activation='relu'))\n",
    "nn.add(tf.keras.layers.Dropout(0.2))\n",
    "\n",
    "# Output layer\n",
    "nn.add(tf.keras.layers.Dense(units=1, activation='sigmoid'))\n",
    "\n",
    "# Check the structure of the model\n",
    "nn.summary()"
   ]
  },
  {
   "cell_type": "code",
   "execution_count": 14,
   "metadata": {},
   "outputs": [],
   "source": [
    "# Compile the model\n",
    "optimizer = tf.keras.optimizers.Adam(learning_rate=0.001)\n",
    "nn.compile(loss='binary_crossentropy', optimizer=optimizer, metrics=['accuracy'])"
   ]
  },
  {
   "cell_type": "code",
   "execution_count": 15,
   "metadata": {},
   "outputs": [],
   "source": [
    "from tensorflow.keras.callbacks import EarlyStopping"
   ]
  },
  {
   "cell_type": "code",
   "execution_count": 16,
   "metadata": {},
   "outputs": [
    {
     "name": "stdout",
     "output_type": "stream",
     "text": [
      "Epoch 1/100\n",
      "644/644 [==============================] - 8s 7ms/step - loss: 0.5839 - accuracy: 0.7139 - val_loss: 0.5693 - val_accuracy: 0.7242\n",
      "Epoch 2/100\n",
      "644/644 [==============================] - 2s 4ms/step - loss: 0.5685 - accuracy: 0.7257 - val_loss: 0.5663 - val_accuracy: 0.7176\n",
      "Epoch 3/100\n",
      "644/644 [==============================] - 1s 2ms/step - loss: 0.5628 - accuracy: 0.7304 - val_loss: 0.5660 - val_accuracy: 0.7223\n",
      "Epoch 4/100\n",
      "644/644 [==============================] - 1s 2ms/step - loss: 0.5618 - accuracy: 0.7308 - val_loss: 0.5654 - val_accuracy: 0.7236\n",
      "Epoch 5/100\n",
      "644/644 [==============================] - 1s 2ms/step - loss: 0.5604 - accuracy: 0.7281 - val_loss: 0.5643 - val_accuracy: 0.7254\n",
      "Epoch 6/100\n",
      "644/644 [==============================] - 2s 3ms/step - loss: 0.5573 - accuracy: 0.7341 - val_loss: 0.5634 - val_accuracy: 0.7213\n",
      "Epoch 7/100\n",
      "644/644 [==============================] - 1s 2ms/step - loss: 0.5568 - accuracy: 0.7329 - val_loss: 0.5596 - val_accuracy: 0.7224\n",
      "Epoch 8/100\n",
      "644/644 [==============================] - 2s 2ms/step - loss: 0.5546 - accuracy: 0.7339 - val_loss: 0.5600 - val_accuracy: 0.7186\n",
      "Epoch 9/100\n",
      "644/644 [==============================] - 2s 3ms/step - loss: 0.5553 - accuracy: 0.7323 - val_loss: 0.5633 - val_accuracy: 0.7248\n",
      "Epoch 10/100\n",
      "644/644 [==============================] - 1s 2ms/step - loss: 0.5535 - accuracy: 0.7326 - val_loss: 0.5668 - val_accuracy: 0.7228\n",
      "Epoch 11/100\n",
      "644/644 [==============================] - 1s 2ms/step - loss: 0.5537 - accuracy: 0.7354 - val_loss: 0.5580 - val_accuracy: 0.7263\n",
      "Epoch 12/100\n",
      "644/644 [==============================] - 1s 2ms/step - loss: 0.5546 - accuracy: 0.7334 - val_loss: 0.5604 - val_accuracy: 0.7289\n",
      "Epoch 13/100\n",
      "644/644 [==============================] - 1s 2ms/step - loss: 0.5516 - accuracy: 0.7334 - val_loss: 0.5601 - val_accuracy: 0.7221\n",
      "Epoch 14/100\n",
      "644/644 [==============================] - 1s 2ms/step - loss: 0.5510 - accuracy: 0.7359 - val_loss: 0.5598 - val_accuracy: 0.7285\n",
      "Epoch 15/100\n",
      "644/644 [==============================] - 2s 2ms/step - loss: 0.5512 - accuracy: 0.7354 - val_loss: 0.5598 - val_accuracy: 0.7226\n",
      "Epoch 16/100\n",
      "644/644 [==============================] - 2s 2ms/step - loss: 0.5510 - accuracy: 0.7344 - val_loss: 0.5624 - val_accuracy: 0.7263\n",
      "Epoch 17/100\n",
      "644/644 [==============================] - 1s 2ms/step - loss: 0.5502 - accuracy: 0.7358 - val_loss: 0.5594 - val_accuracy: 0.7285\n",
      "Epoch 18/100\n",
      "644/644 [==============================] - 2s 3ms/step - loss: 0.5513 - accuracy: 0.7343 - val_loss: 0.5569 - val_accuracy: 0.7283\n",
      "Epoch 19/100\n",
      "644/644 [==============================] - 1s 2ms/step - loss: 0.5499 - accuracy: 0.7373 - val_loss: 0.5606 - val_accuracy: 0.7250\n",
      "Epoch 20/100\n",
      "644/644 [==============================] - 1s 2ms/step - loss: 0.5505 - accuracy: 0.7355 - val_loss: 0.5647 - val_accuracy: 0.7269\n",
      "Epoch 21/100\n",
      "644/644 [==============================] - 2s 2ms/step - loss: 0.5511 - accuracy: 0.7343 - val_loss: 0.5595 - val_accuracy: 0.7269\n",
      "Epoch 22/100\n",
      "644/644 [==============================] - 2s 3ms/step - loss: 0.5485 - accuracy: 0.7355 - val_loss: 0.5630 - val_accuracy: 0.7246\n",
      "Epoch 23/100\n",
      "644/644 [==============================] - 1s 2ms/step - loss: 0.5505 - accuracy: 0.7343 - val_loss: 0.5639 - val_accuracy: 0.7256\n",
      "Epoch 24/100\n",
      "644/644 [==============================] - 2s 3ms/step - loss: 0.5493 - accuracy: 0.7349 - val_loss: 0.5594 - val_accuracy: 0.7267\n",
      "Epoch 25/100\n",
      "644/644 [==============================] - 1s 2ms/step - loss: 0.5487 - accuracy: 0.7351 - val_loss: 0.5567 - val_accuracy: 0.7236\n",
      "Epoch 26/100\n",
      "644/644 [==============================] - 2s 2ms/step - loss: 0.5486 - accuracy: 0.7361 - val_loss: 0.5588 - val_accuracy: 0.7252\n",
      "Epoch 27/100\n",
      "644/644 [==============================] - 1s 2ms/step - loss: 0.5483 - accuracy: 0.7367 - val_loss: 0.5579 - val_accuracy: 0.7217\n",
      "Epoch 28/100\n",
      "644/644 [==============================] - 1s 2ms/step - loss: 0.5472 - accuracy: 0.7371 - val_loss: 0.5583 - val_accuracy: 0.7252\n",
      "Epoch 29/100\n",
      "644/644 [==============================] - 1s 2ms/step - loss: 0.5482 - accuracy: 0.7375 - val_loss: 0.5594 - val_accuracy: 0.7248\n",
      "Epoch 30/100\n",
      "644/644 [==============================] - 1s 2ms/step - loss: 0.5479 - accuracy: 0.7355 - val_loss: 0.5654 - val_accuracy: 0.7223\n",
      "Epoch 31/100\n",
      "644/644 [==============================] - 1s 2ms/step - loss: 0.5475 - accuracy: 0.7357 - val_loss: 0.5553 - val_accuracy: 0.7283\n",
      "Epoch 32/100\n",
      "644/644 [==============================] - 2s 2ms/step - loss: 0.5485 - accuracy: 0.7367 - val_loss: 0.5582 - val_accuracy: 0.7259\n",
      "Epoch 33/100\n",
      "644/644 [==============================] - 2s 3ms/step - loss: 0.5457 - accuracy: 0.7387 - val_loss: 0.5588 - val_accuracy: 0.7271\n",
      "Epoch 34/100\n",
      "644/644 [==============================] - 2s 3ms/step - loss: 0.5464 - accuracy: 0.7380 - val_loss: 0.5596 - val_accuracy: 0.7240\n",
      "Epoch 35/100\n",
      "644/644 [==============================] - 2s 2ms/step - loss: 0.5470 - accuracy: 0.7349 - val_loss: 0.5603 - val_accuracy: 0.7244\n",
      "Epoch 36/100\n",
      "644/644 [==============================] - 2s 2ms/step - loss: 0.5469 - accuracy: 0.7386 - val_loss: 0.5557 - val_accuracy: 0.7267\n",
      "Epoch 37/100\n",
      "644/644 [==============================] - 1s 2ms/step - loss: 0.5479 - accuracy: 0.7386 - val_loss: 0.5619 - val_accuracy: 0.7242\n",
      "Epoch 38/100\n",
      "644/644 [==============================] - 2s 3ms/step - loss: 0.5472 - accuracy: 0.7371 - val_loss: 0.5576 - val_accuracy: 0.7242\n",
      "Epoch 39/100\n",
      "644/644 [==============================] - 1s 2ms/step - loss: 0.5464 - accuracy: 0.7355 - val_loss: 0.5609 - val_accuracy: 0.7287\n",
      "Epoch 40/100\n",
      "644/644 [==============================] - 1s 2ms/step - loss: 0.5452 - accuracy: 0.7386 - val_loss: 0.5622 - val_accuracy: 0.7256\n",
      "Epoch 41/100\n",
      "644/644 [==============================] - 1s 2ms/step - loss: 0.5450 - accuracy: 0.7390 - val_loss: 0.5620 - val_accuracy: 0.7256\n"
     ]
    }
   ],
   "source": [
    "# Train the model\n",
    "early_stopping = EarlyStopping(monitor='val_loss', patience=10)\n",
    "fit_model = nn.fit(X_train_scaled, y_train, epochs=100, validation_split=0.2, callbacks=[early_stopping])"
   ]
  },
  {
   "cell_type": "code",
   "execution_count": 17,
   "metadata": {},
   "outputs": [
    {
     "name": "stdout",
     "output_type": "stream",
     "text": [
      "268/268 - 0s - loss: 0.5579 - accuracy: 0.7257 - 228ms/epoch - 850us/step\n",
      "Loss: 0.5578529238700867, Accuracy: 0.7257142663002014\n"
     ]
    }
   ],
   "source": [
    "# Evaluate the model using the test data\n",
    "model_loss, model_accuracy = nn.evaluate(X_test_scaled,y_test,verbose=2)\n",
    "print(f\"Loss: {model_loss}, Accuracy: {model_accuracy}\")"
   ]
  },
  {
   "cell_type": "code",
   "execution_count": 19,
   "metadata": {},
   "outputs": [],
   "source": [
    "# Export our model to HDF5 file\n",
    "nn.save(\"AlphabetSoupCharity_Optimization.h5\")"
   ]
  },
  {
   "cell_type": "code",
   "execution_count": null,
   "metadata": {},
   "outputs": [],
   "source": []
  }
 ],
 "metadata": {
  "kernelspec": {
   "display_name": "Python 3 (ipykernel)",
   "language": "python",
   "name": "python3"
  },
  "language_info": {
   "codemirror_mode": {
    "name": "ipython",
    "version": 3
   },
   "file_extension": ".py",
   "mimetype": "text/x-python",
   "name": "python",
   "nbconvert_exporter": "python",
   "pygments_lexer": "ipython3",
   "version": "3.7.7"
  }
 },
 "nbformat": 4,
 "nbformat_minor": 4
}
